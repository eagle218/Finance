{
  "nbformat": 4,
  "nbformat_minor": 0,
  "metadata": {
    "colab": {
      "provenance": [],
      "authorship_tag": "ABX9TyPPYwq2RxujR1a7OyYGGhTW",
      "include_colab_link": true
    },
    "kernelspec": {
      "name": "python3",
      "display_name": "Python 3"
    },
    "language_info": {
      "name": "python"
    }
  },
  "cells": [
    {
      "cell_type": "markdown",
      "metadata": {
        "id": "view-in-github",
        "colab_type": "text"
      },
      "source": [
        "<a href=\"https://colab.research.google.com/github/eagle218/Finance/blob/main/LAB1.ipynb\" target=\"_parent\"><img src=\"https://colab.research.google.com/assets/colab-badge.svg\" alt=\"Open In Colab\"/></a>"
      ]
    },
    {
      "cell_type": "code",
      "execution_count": 2,
      "metadata": {
        "id": "TNK-a-vCnyjq"
      },
      "outputs": [],
      "source": [
        "def evklid(a, b):\n",
        "  # 16, 36 -> 4\n",
        "  while a != b:\n",
        "    if a > b:\n",
        "      a -= b\n",
        "    else:\n",
        "      b -= a\n",
        "  return a"
      ]
    },
    {
      "cell_type": "code",
      "source": [
        "a = 10\n",
        "b = 22\n",
        "print(evklid(a, b))"
      ],
      "metadata": {
        "id": "oWsGYJNioQ6B"
      },
      "execution_count": null,
      "outputs": []
    },
    {
      "cell_type": "code",
      "source": [
        "a = 16\n",
        "b = 34\n",
        "print(evklid(a, b))"
      ],
      "metadata": {
        "colab": {
          "base_uri": "https://localhost:8080/"
        },
        "id": "4zsuL7_ToJyc",
        "outputId": "0a4dcc8b-c070-402e-f7a3-c7769a3b7502"
      },
      "execution_count": 3,
      "outputs": [
        {
          "output_type": "stream",
          "name": "stdout",
          "text": [
            "2\n"
          ]
        }
      ]
    },
    {
      "cell_type": "code",
      "source": [
        "a = 38\n",
        "b = 18\n",
        "print(evklid(a, b))"
      ],
      "metadata": {
        "colab": {
          "base_uri": "https://localhost:8080/"
        },
        "id": "dldY_CohoRr6",
        "outputId": "16d257de-9a8b-473d-afcb-70424b4ccfa9"
      },
      "execution_count": 4,
      "outputs": [
        {
          "output_type": "stream",
          "name": "stdout",
          "text": [
            "2\n"
          ]
        }
      ]
    },
    {
      "cell_type": "code",
      "source": [
        "a,b = input(\"A, B: \").split()\n",
        "a,b = int(a), int(b)\n",
        "print(evklid(a,b))"
      ],
      "metadata": {
        "colab": {
          "base_uri": "https://localhost:8080/"
        },
        "id": "k8O_OzbXoZgE",
        "outputId": "e5f68efe-9145-4d51-dac1-e4ee4e01b971"
      },
      "execution_count": 8,
      "outputs": [
        {
          "output_type": "stream",
          "name": "stdout",
          "text": [
            "A, B: 12 36\n",
            "12\n"
          ]
        }
      ]
    },
    {
      "cell_type": "markdown",
      "source": [
        "#1. Загальна інформація Буркіна Фасо\n",
        "1.1 *Площа та населення*\n",
        "\n",
        "Площа: 274,000 км² (25 місце у світі)\n",
        "Населення: 21,9 млн осіб (2023 рік) (50 місце у світі)\n",
        "\n",
        "1.2 *Державний устрій*\n",
        "\n",
        "Форма правління: Президентська республіка\n",
        "Глава держави: Президент Рок Каборе (з 2015 року)\n",
        "Глава уряду: Прем'єр-міністр Меле Каборе (з 2021 року)\n",
        "Офіційна мова: Французька\n",
        "# 2. Видатні особистості\n",
        "Тома́ Санка́ра́ (1954-1987) - революціонер, марксист, президент Верхньої Вольти (1983-1987).\n",
        "Арістід Десіре́ Лінгані (1936-2007) - політик, президент Верхньої Вольти (1978-1983).\n",
        "Іссака́ Сиссо́ (1950-) - письменник, драматург, режисер.\n",
        "# 3. Пам'ятки культури та природи\n",
        "Пам'ятки культури:\n",
        "\n",
        "*   Місто Бандіагара: глиняні будинки народу догонів, внесене до списку Всесвітньої спадщини ЮНЕСКО.\n",
        "*   Мечеть Ларго: одна з найстаріших мечетей в Західній Африці, розташована в місті Уагадугу.\n",
        "*   Національний музей Буркіна-Фасо: експонати з історії та культури країни.\n",
        "Пам'ятки природи:\n",
        "*   Національний парк Пік-де-Тенгела: гори, савани та водоспади.\n",
        "*   Заповідник дикої природи Арлі: слони, жирафи, леви та інші тварини.\n",
        "\n",
        "\n",
        "*   Озеро Накуру: одне з найважливіших місць гніздування рожевих фламінго в Африці.\n",
        "\n",
        "#### Таблиця:\n",
        "\n",
        "| Параметр            | Значення                  |\n",
        "|---------------------|---------------------------|\n",
        "| Площа               | 274,000 км²               |\n",
        "| Населення           | 21,9 млн осіб             |\n",
        "| Густота населення   | 80 осіб/км²               |\n",
        "| Державний устрій    | Президентська республіка  |\n",
        "\n",
        "\n",
        "\n",
        "![Фото](https://upload.wikimedia.org/wikipedia/commons/thumb/d/d6/BoboDioulasso-GrandMosqueN.JPG/1024px-BoboDioulasso-GrandMosqueN.JPG)"
      ],
      "metadata": {
        "id": "2m04Ye2Bo1M3"
      }
    },
    {
      "cell_type": "code",
      "source": [
        "%%html\n",
        "<svg xmlns=\"http://www.w3.org/2000/svg\" xmlns:xlink=\"http://www.w3.org/1999/xlink\" version=\"1.0\" width=\"900\" height=\"600\">\n",
        "\t<rect width=\"900\" height=\"600\" fill=\"#009e49\"></rect>\n",
        "\t<rect width=\"900\" height=\"300\" fill=\"#ef2b2d\"></rect>\n",
        "  <rect xmlns=\"http://www.w3.org/2000/svg\" width=\"900\" height=\"600\" fill=\"#009e49\"></rect>\n",
        "  <rect xmlns=\"http://www.w3.org/2000/svg\" width=\"900\" height=\"300\" fill=\"#ef2b2d\"></rect>\n",
        "</svg>"
      ],
      "metadata": {
        "colab": {
          "base_uri": "https://localhost:8080/",
          "height": 621
        },
        "id": "yMlZvwI0rOzI",
        "outputId": "4445687d-21ab-4139-d1e9-5f33e784c22b"
      },
      "execution_count": 21,
      "outputs": [
        {
          "output_type": "display_data",
          "data": {
            "text/plain": [
              "<IPython.core.display.HTML object>"
            ],
            "text/html": [
              "<svg xmlns=\"http://www.w3.org/2000/svg\" xmlns:xlink=\"http://www.w3.org/1999/xlink\" version=\"1.0\" width=\"900\" height=\"600\">\n",
              "\t<rect width=\"900\" height=\"600\" fill=\"#009e49\"></rect>\n",
              "\t<rect width=\"900\" height=\"300\" fill=\"#ef2b2d\"></rect>\n",
              "  <rect xmlns=\"http://www.w3.org/2000/svg\" width=\"900\" height=\"600\" fill=\"#009e49\"></rect>\n",
              "  <rect xmlns=\"http://www.w3.org/2000/svg\" width=\"900\" height=\"300\" fill=\"#ef2b2d\"></rect>\n",
              "</svg>\n"
            ]
          },
          "metadata": {}
        }
      ]
    }
  ]
}